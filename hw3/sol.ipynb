{
 "cells": [
  {
   "attachments": {},
   "cell_type": "markdown",
   "id": "6024f9ea",
   "metadata": {},
   "source": [
    "# Задание 1: EM-алгоритм\n",
    "\n",
    "* Открыть датасет sklearn.datasets.load_wine, содержащий информацию о трех различных сортах вина (class0, class1, class2). Ответить на вопросы ниже, используя средства языка Python и необходимых библиотек;\n",
    "* Используя файл Sem5_EM.ipynb, модифицировать алгоритм EM так, чтобы он умел распознавать три класса (в исходной реализации умеем делать только бинарную классификацию);\n",
    "* Вместо переменной steps (указывает количество итераций алгоритма) и цикла по количеству шагов, сделать функцию FullEM(), которая будет выполнять функции e_step() и m_step(), пока не будет соблюдено условие сходимости (которое Вы выбираете сами). Таким образом, алгоритму не надо делать ровно 15 итераций, а их количество динамически зависит от условия сходимомсти;\n",
    "* Не используя деление выборки на train-test (так как обучение без учителя), прогнать модифицированный EM-алгоритм (функцию FullEM()) и посчитать известные метрики точности классификации (спойлер: не только accuracy).\n",
    "* Использовать GaussianMixture из sklearn, также посчитать метрики. Насколько точна классификация в данном случае? Какой из методов оказался точнее?"
   ]
  },
  {
   "cell_type": "code",
   "execution_count": 155,
   "id": "69d56c7c",
   "metadata": {},
   "outputs": [],
   "source": [
    "from sklearn.datasets import load_wine\n",
    "from sklearn.mixture import GaussianMixture as GMM\n",
    "from sklearn.preprocessing import StandardScaler\n",
    "import numpy as np\n",
    "import matplotlib.pyplot as plt\n",
    "import math\n",
    "import pandas as pd\n",
    "from scipy.stats import multivariate_normal\n",
    "from sklearn.metrics import accuracy_score, classification_report"
   ]
  },
  {
   "attachments": {},
   "cell_type": "markdown",
   "id": "68924f98",
   "metadata": {},
   "source": [
    "Загружаю датасет"
   ]
  },
  {
   "cell_type": "code",
   "execution_count": 156,
   "id": "0e296932",
   "metadata": {},
   "outputs": [
    {
     "data": {
      "text/html": [
       "<div>\n",
       "<style scoped>\n",
       "    .dataframe tbody tr th:only-of-type {\n",
       "        vertical-align: middle;\n",
       "    }\n",
       "\n",
       "    .dataframe tbody tr th {\n",
       "        vertical-align: top;\n",
       "    }\n",
       "\n",
       "    .dataframe thead th {\n",
       "        text-align: right;\n",
       "    }\n",
       "</style>\n",
       "<table border=\"1\" class=\"dataframe\">\n",
       "  <thead>\n",
       "    <tr style=\"text-align: right;\">\n",
       "      <th></th>\n",
       "      <th>alcohol</th>\n",
       "      <th>malic_acid</th>\n",
       "      <th>ash</th>\n",
       "      <th>alcalinity_of_ash</th>\n",
       "      <th>magnesium</th>\n",
       "      <th>total_phenols</th>\n",
       "      <th>flavanoids</th>\n",
       "      <th>nonflavanoid_phenols</th>\n",
       "      <th>proanthocyanins</th>\n",
       "      <th>color_intensity</th>\n",
       "      <th>hue</th>\n",
       "      <th>od280/od315_of_diluted_wines</th>\n",
       "      <th>proline</th>\n",
       "      <th>target</th>\n",
       "    </tr>\n",
       "  </thead>\n",
       "  <tbody>\n",
       "    <tr>\n",
       "      <th>0</th>\n",
       "      <td>14.23</td>\n",
       "      <td>1.71</td>\n",
       "      <td>2.43</td>\n",
       "      <td>15.6</td>\n",
       "      <td>127.0</td>\n",
       "      <td>2.80</td>\n",
       "      <td>3.06</td>\n",
       "      <td>0.28</td>\n",
       "      <td>2.29</td>\n",
       "      <td>5.64</td>\n",
       "      <td>1.04</td>\n",
       "      <td>3.92</td>\n",
       "      <td>1065.0</td>\n",
       "      <td>0</td>\n",
       "    </tr>\n",
       "    <tr>\n",
       "      <th>1</th>\n",
       "      <td>13.20</td>\n",
       "      <td>1.78</td>\n",
       "      <td>2.14</td>\n",
       "      <td>11.2</td>\n",
       "      <td>100.0</td>\n",
       "      <td>2.65</td>\n",
       "      <td>2.76</td>\n",
       "      <td>0.26</td>\n",
       "      <td>1.28</td>\n",
       "      <td>4.38</td>\n",
       "      <td>1.05</td>\n",
       "      <td>3.40</td>\n",
       "      <td>1050.0</td>\n",
       "      <td>0</td>\n",
       "    </tr>\n",
       "    <tr>\n",
       "      <th>2</th>\n",
       "      <td>13.16</td>\n",
       "      <td>2.36</td>\n",
       "      <td>2.67</td>\n",
       "      <td>18.6</td>\n",
       "      <td>101.0</td>\n",
       "      <td>2.80</td>\n",
       "      <td>3.24</td>\n",
       "      <td>0.30</td>\n",
       "      <td>2.81</td>\n",
       "      <td>5.68</td>\n",
       "      <td>1.03</td>\n",
       "      <td>3.17</td>\n",
       "      <td>1185.0</td>\n",
       "      <td>0</td>\n",
       "    </tr>\n",
       "    <tr>\n",
       "      <th>3</th>\n",
       "      <td>14.37</td>\n",
       "      <td>1.95</td>\n",
       "      <td>2.50</td>\n",
       "      <td>16.8</td>\n",
       "      <td>113.0</td>\n",
       "      <td>3.85</td>\n",
       "      <td>3.49</td>\n",
       "      <td>0.24</td>\n",
       "      <td>2.18</td>\n",
       "      <td>7.80</td>\n",
       "      <td>0.86</td>\n",
       "      <td>3.45</td>\n",
       "      <td>1480.0</td>\n",
       "      <td>0</td>\n",
       "    </tr>\n",
       "    <tr>\n",
       "      <th>4</th>\n",
       "      <td>13.24</td>\n",
       "      <td>2.59</td>\n",
       "      <td>2.87</td>\n",
       "      <td>21.0</td>\n",
       "      <td>118.0</td>\n",
       "      <td>2.80</td>\n",
       "      <td>2.69</td>\n",
       "      <td>0.39</td>\n",
       "      <td>1.82</td>\n",
       "      <td>4.32</td>\n",
       "      <td>1.04</td>\n",
       "      <td>2.93</td>\n",
       "      <td>735.0</td>\n",
       "      <td>0</td>\n",
       "    </tr>\n",
       "    <tr>\n",
       "      <th>...</th>\n",
       "      <td>...</td>\n",
       "      <td>...</td>\n",
       "      <td>...</td>\n",
       "      <td>...</td>\n",
       "      <td>...</td>\n",
       "      <td>...</td>\n",
       "      <td>...</td>\n",
       "      <td>...</td>\n",
       "      <td>...</td>\n",
       "      <td>...</td>\n",
       "      <td>...</td>\n",
       "      <td>...</td>\n",
       "      <td>...</td>\n",
       "      <td>...</td>\n",
       "    </tr>\n",
       "    <tr>\n",
       "      <th>173</th>\n",
       "      <td>13.71</td>\n",
       "      <td>5.65</td>\n",
       "      <td>2.45</td>\n",
       "      <td>20.5</td>\n",
       "      <td>95.0</td>\n",
       "      <td>1.68</td>\n",
       "      <td>0.61</td>\n",
       "      <td>0.52</td>\n",
       "      <td>1.06</td>\n",
       "      <td>7.70</td>\n",
       "      <td>0.64</td>\n",
       "      <td>1.74</td>\n",
       "      <td>740.0</td>\n",
       "      <td>2</td>\n",
       "    </tr>\n",
       "    <tr>\n",
       "      <th>174</th>\n",
       "      <td>13.40</td>\n",
       "      <td>3.91</td>\n",
       "      <td>2.48</td>\n",
       "      <td>23.0</td>\n",
       "      <td>102.0</td>\n",
       "      <td>1.80</td>\n",
       "      <td>0.75</td>\n",
       "      <td>0.43</td>\n",
       "      <td>1.41</td>\n",
       "      <td>7.30</td>\n",
       "      <td>0.70</td>\n",
       "      <td>1.56</td>\n",
       "      <td>750.0</td>\n",
       "      <td>2</td>\n",
       "    </tr>\n",
       "    <tr>\n",
       "      <th>175</th>\n",
       "      <td>13.27</td>\n",
       "      <td>4.28</td>\n",
       "      <td>2.26</td>\n",
       "      <td>20.0</td>\n",
       "      <td>120.0</td>\n",
       "      <td>1.59</td>\n",
       "      <td>0.69</td>\n",
       "      <td>0.43</td>\n",
       "      <td>1.35</td>\n",
       "      <td>10.20</td>\n",
       "      <td>0.59</td>\n",
       "      <td>1.56</td>\n",
       "      <td>835.0</td>\n",
       "      <td>2</td>\n",
       "    </tr>\n",
       "    <tr>\n",
       "      <th>176</th>\n",
       "      <td>13.17</td>\n",
       "      <td>2.59</td>\n",
       "      <td>2.37</td>\n",
       "      <td>20.0</td>\n",
       "      <td>120.0</td>\n",
       "      <td>1.65</td>\n",
       "      <td>0.68</td>\n",
       "      <td>0.53</td>\n",
       "      <td>1.46</td>\n",
       "      <td>9.30</td>\n",
       "      <td>0.60</td>\n",
       "      <td>1.62</td>\n",
       "      <td>840.0</td>\n",
       "      <td>2</td>\n",
       "    </tr>\n",
       "    <tr>\n",
       "      <th>177</th>\n",
       "      <td>14.13</td>\n",
       "      <td>4.10</td>\n",
       "      <td>2.74</td>\n",
       "      <td>24.5</td>\n",
       "      <td>96.0</td>\n",
       "      <td>2.05</td>\n",
       "      <td>0.76</td>\n",
       "      <td>0.56</td>\n",
       "      <td>1.35</td>\n",
       "      <td>9.20</td>\n",
       "      <td>0.61</td>\n",
       "      <td>1.60</td>\n",
       "      <td>560.0</td>\n",
       "      <td>2</td>\n",
       "    </tr>\n",
       "  </tbody>\n",
       "</table>\n",
       "<p>178 rows × 14 columns</p>\n",
       "</div>"
      ],
      "text/plain": [
       "     alcohol  malic_acid   ash  alcalinity_of_ash  magnesium  total_phenols  \\\n",
       "0      14.23        1.71  2.43               15.6      127.0           2.80   \n",
       "1      13.20        1.78  2.14               11.2      100.0           2.65   \n",
       "2      13.16        2.36  2.67               18.6      101.0           2.80   \n",
       "3      14.37        1.95  2.50               16.8      113.0           3.85   \n",
       "4      13.24        2.59  2.87               21.0      118.0           2.80   \n",
       "..       ...         ...   ...                ...        ...            ...   \n",
       "173    13.71        5.65  2.45               20.5       95.0           1.68   \n",
       "174    13.40        3.91  2.48               23.0      102.0           1.80   \n",
       "175    13.27        4.28  2.26               20.0      120.0           1.59   \n",
       "176    13.17        2.59  2.37               20.0      120.0           1.65   \n",
       "177    14.13        4.10  2.74               24.5       96.0           2.05   \n",
       "\n",
       "     flavanoids  nonflavanoid_phenols  proanthocyanins  color_intensity   hue  \\\n",
       "0          3.06                  0.28             2.29             5.64  1.04   \n",
       "1          2.76                  0.26             1.28             4.38  1.05   \n",
       "2          3.24                  0.30             2.81             5.68  1.03   \n",
       "3          3.49                  0.24             2.18             7.80  0.86   \n",
       "4          2.69                  0.39             1.82             4.32  1.04   \n",
       "..          ...                   ...              ...              ...   ...   \n",
       "173        0.61                  0.52             1.06             7.70  0.64   \n",
       "174        0.75                  0.43             1.41             7.30  0.70   \n",
       "175        0.69                  0.43             1.35            10.20  0.59   \n",
       "176        0.68                  0.53             1.46             9.30  0.60   \n",
       "177        0.76                  0.56             1.35             9.20  0.61   \n",
       "\n",
       "     od280/od315_of_diluted_wines  proline  target  \n",
       "0                            3.92   1065.0       0  \n",
       "1                            3.40   1050.0       0  \n",
       "2                            3.17   1185.0       0  \n",
       "3                            3.45   1480.0       0  \n",
       "4                            2.93    735.0       0  \n",
       "..                            ...      ...     ...  \n",
       "173                          1.74    740.0       2  \n",
       "174                          1.56    750.0       2  \n",
       "175                          1.56    835.0       2  \n",
       "176                          1.62    840.0       2  \n",
       "177                          1.60    560.0       2  \n",
       "\n",
       "[178 rows x 14 columns]"
      ]
     },
     "execution_count": 156,
     "metadata": {},
     "output_type": "execute_result"
    }
   ],
   "source": [
    "wd = load_wine()\n",
    "wine = pd.DataFrame(wd.data, columns=wd.feature_names)\n",
    "wine['target'] = wd.target\n",
    "wine"
   ]
  },
  {
   "cell_type": "code",
   "execution_count": 159,
   "id": "baecda6e",
   "metadata": {},
   "outputs": [],
   "source": [
    "data = wd.data\n",
    "scaled = StandardScaler().fit_transform(data)\n",
    "k = 3\n",
    "n, m = scaled.shape"
   ]
  },
  {
   "attachments": {},
   "cell_type": "markdown",
   "id": "4c07f4bb",
   "metadata": {},
   "source": [
    "E-шаг"
   ]
  },
  {
   "cell_type": "code",
   "execution_count": 160,
   "id": "70e50e99",
   "metadata": {},
   "outputs": [],
   "source": [
    "def e_step(input_data, weights, means, covariances):\n",
    "    num_data_points, num_clusters = input_data.shape[0], len(weights)\n",
    "    responsibilities = np.zeros((num_data_points, num_clusters))\n",
    "    for i, (weight, mean, cov) in enumerate(zip(weights, means, covariances)):\n",
    "        responsibilities[:, i] = weight * multivariate_normal.pdf(input_data, mean=mean, cov=cov)\n",
    "    responsibilities /= np.sum(responsibilities, axis=1)[:, np.newaxis]\n",
    "    return responsibilities"
   ]
  },
  {
   "attachments": {},
   "cell_type": "markdown",
   "id": "b4b61be4",
   "metadata": {},
   "source": [
    "M-шаг"
   ]
  },
  {
   "cell_type": "code",
   "execution_count": 161,
   "id": "7c953903",
   "metadata": {},
   "outputs": [],
   "source": [
    "def m_step(data, assigned_cluster):\n",
    "    num_data_points, num_features = data.shape\n",
    "    num_clusters = assigned_cluster.shape[1]\n",
    "    cluster_weights = np.zeros(num_clusters)\n",
    "    cluster_means = np.zeros((num_clusters, num_features))\n",
    "    cluster_covariances = np.zeros((num_clusters, num_features, num_features))\n",
    "\n",
    "    for cluster in range(num_clusters):\n",
    "        weight_sum = np.sum(assigned_cluster[:, cluster])\n",
    "        cluster_weights[cluster] = weight_sum / num_data_points\n",
    "        weighted_sum = np.dot(np.reshape(assigned_cluster[:, cluster], (-1, 1)).T, data).reshape(-1)\n",
    "        cluster_means[cluster] = weighted_sum / weight_sum\n",
    "        diff = data - cluster_means[cluster]\n",
    "        cluster_covariances[cluster] = np.dot((np.reshape(assigned_cluster[:, cluster], (-1, 1)) * diff).T, diff) / weight_sum\n",
    "\n",
    "    return cluster_weights, cluster_means, cluster_covariances"
   ]
  },
  {
   "attachments": {},
   "cell_type": "markdown",
   "id": "e42ca377",
   "metadata": {},
   "source": [
    "full_em"
   ]
  },
  {
   "cell_type": "code",
   "execution_count": 168,
   "id": "1adf6147",
   "metadata": {},
   "outputs": [],
   "source": [
    "def full_em(inputdata, maxiterations=100, tolerance=1e-4):\n",
    "    wts = np.full(k, 1 / k)\n",
    "    # print(k, m)\n",
    "    avg = np.random.random((k, m))\n",
    "    cov = np.array([np.eye(m)] * k)\n",
    "    log_val = 0\n",
    "    for iteration in range(maxiterations):\n",
    "        before = log_val\n",
    "        resp = e_step(inputdata, wts, avg, cov)\n",
    "        wts, avg, cov = m_step(inputdata, resp)\n",
    "        log_val = np.sum(np.log(np.sum([w * multivariate_normal.pdf(inputdata, mean=avg[i], cov=cov[i]) for i, w in enumerate(wts)], axis=0)))\n",
    "\n",
    "        if abs(log_val - before) < tolerance:\n",
    "            break\n",
    "\n",
    "    return wts, avg, cov"
   ]
  },
  {
   "attachments": {},
   "cell_type": "markdown",
   "id": "8f8fe23a",
   "metadata": {},
   "source": [
    "Точность классификации"
   ]
  },
  {
   "cell_type": "code",
   "execution_count": 300,
   "id": "c0792b56",
   "metadata": {},
   "outputs": [
    {
     "name": "stdout",
     "output_type": "stream",
     "text": [
      "Отчёт классификации EM-флгоритма:\n",
      "              precision    recall  f1-score   support\n",
      "\n",
      "           0       0.44      0.25      0.32        59\n",
      "           1       0.54      0.73      0.62        71\n",
      "           2       1.00      1.00      1.00        48\n",
      "\n",
      "    accuracy                           0.65       178\n",
      "   macro avg       0.66      0.66      0.65       178\n",
      "weighted avg       0.63      0.65      0.62       178\n",
      "\n",
      "Точность EM-флгоритма:\n",
      "\t0.6460674157303371\n"
     ]
    }
   ],
   "source": [
    "weights, means, covs = full_em(scaled)\n",
    "output = False\n",
    "if output:\n",
    "    print(\"Averages:\")\n",
    "    for i in means:\n",
    "        print(f\"\\t{i}\")\n",
    "\n",
    "    print(\"\\nWeights:\")\n",
    "    for i in weights:\n",
    "        print(f\"\\t{i}\")\n",
    "\n",
    "    print(\"\\nCovariance:\")\n",
    "    for i in covs:\n",
    "        print(f\"\\t{i}\")\n",
    "\n",
    "results = []\n",
    "for i in range(k):\n",
    "    results.append(multivariate_normal.pdf(scaled, mean=means[i], cov=covs[i]))\n",
    "predict = np.argmax(results, axis=0)\n",
    "\n",
    "# print(predicted_classes)\n",
    "print(\"Отчёт классификации EM-флгоритма:\")\n",
    "print(classification_report(wine.target, predict))\n",
    "\n",
    "print(\"Точность EM-флгоритма:\")\n",
    "print(f\"\\t{accuracy_score(wine.target, predict)}\")"
   ]
  },
  {
   "cell_type": "code",
   "execution_count": 327,
   "id": "081ad40b",
   "metadata": {},
   "outputs": [
    {
     "name": "stdout",
     "output_type": "stream",
     "text": [
      "Отчёт классификации:\n",
      "              precision    recall  f1-score   support\n",
      "\n",
      "           0       0.00      0.00      0.00        59\n",
      "           1       0.06      0.04      0.05        71\n",
      "           2       0.00      0.00      0.00        48\n",
      "\n",
      "    accuracy                           0.02       178\n",
      "   macro avg       0.02      0.01      0.02       178\n",
      "weighted avg       0.02      0.02      0.02       178\n",
      "\n",
      "Точность:\n",
      "\t0.016853932584269662\n"
     ]
    }
   ],
   "source": [
    "test = GMM(n_components=k, covariance_type='full', random_state=0).fit(scaled)\n",
    "predict2 = test.predict(scaled)\n",
    "\n",
    "print(\"Отчёт классификации:\")\n",
    "print(classification_report(wine.target, predict2))\n",
    "\n",
    "print(\"Точность:\")\n",
    "print(f\"\\t{accuracy_score(wine.target, predict2)}\")\n"
   ]
  },
  {
   "attachments": {},
   "cell_type": "markdown",
   "id": "98bf9860",
   "metadata": {},
   "source": [
    "### Выводы\n",
    "\n",
    "Модифицированный алгоритм показал точность 0.6460674157303371, тогда как готовая реализация sklearn всего 0.016853932584269662\n",
    "Можно сказать, что готовая реализация модели не справляется с классификацией данных\n",
    "\n",
    "Точность по классам:\n",
    "\n",
    "| Класс | Самопильный метод | Готовый |\n",
    "|-------|-------------------|---------|\n",
    "| 1     | 0.44              | 0.00    |\n",
    "| 2     | 0.54              | 0.06    |\n",
    "| 3     | 1.00              | 0.00    |\n"
   ]
  },
  {
   "cell_type": "markdown",
   "id": "173fe20c",
   "metadata": {},
   "source": [
    "## Задание 2: kNN\n",
    "\n",
    "1) Используем датасет с сортами вина из предыдущей задачи;\n",
    "2) Использовать три подхода к делению выборки на тренировочную и тестовую: KFold, LOO, Stratified KFold. Для воспроизводимости зафиксируйте параметр random_state=42;\n",
    "3) Для каждого из методов кросс-валидации, а также для каждого k ∈ [1, 50] (число \"соседей\") прогнать алгоритм ближайших соседей (sklearn.neighbors.KNeighborsClassifier) и посчитать долю правильных ответов. Какая кросс-валидация и при каком значении k дает лучший результат?;\n",
    "4) Произведите масштабирование признаков с помощью функции sklearn.preprocessing.scale. Снова найдите оптимальное k на трех разных кросс-валидациях. Чему оно равно? Изменилось ли оно? Изменился ли оптимальный методвалидации?"
   ]
  },
  {
   "cell_type": "markdown",
   "id": "a9144171",
   "metadata": {},
   "source": [
    "**Шаг 1: Загрузка и Подготовка Датасета**\n",
    "\n",
    "Сначала загрузим датасет load_wine из sklearn.datasets и подготовим данные для дальнейшего анализа."
   ]
  },
  {
   "cell_type": "code",
   "execution_count": 11,
   "id": "9575acc7",
   "metadata": {},
   "outputs": [
    {
     "name": "stdout",
     "output_type": "stream",
     "text": [
      "   alcohol  malic_acid   ash  alcalinity_of_ash  magnesium  total_phenols  \\\n",
      "0    14.23        1.71  2.43               15.6      127.0           2.80   \n",
      "1    13.20        1.78  2.14               11.2      100.0           2.65   \n",
      "2    13.16        2.36  2.67               18.6      101.0           2.80   \n",
      "3    14.37        1.95  2.50               16.8      113.0           3.85   \n",
      "4    13.24        2.59  2.87               21.0      118.0           2.80   \n",
      "\n",
      "   flavanoids  nonflavanoid_phenols  proanthocyanins  color_intensity   hue  \\\n",
      "0        3.06                  0.28             2.29             5.64  1.04   \n",
      "1        2.76                  0.26             1.28             4.38  1.05   \n",
      "2        3.24                  0.30             2.81             5.68  1.03   \n",
      "3        3.49                  0.24             2.18             7.80  0.86   \n",
      "4        2.69                  0.39             1.82             4.32  1.04   \n",
      "\n",
      "   od280/od315_of_diluted_wines  proline  target  \n",
      "0                          3.92   1065.0       0  \n",
      "1                          3.40   1050.0       0  \n",
      "2                          3.17   1185.0       0  \n",
      "3                          3.45   1480.0       0  \n",
      "4                          2.93    735.0       0  \n"
     ]
    }
   ],
   "source": [
    "# Импортирую необходимые библиотеки\n",
    "from sklearn.datasets import load_wine\n",
    "import pandas as pd\n",
    "\n",
    "# Загружаю датасет\n",
    "wd = load_wine()\n",
    "data = wd.data\n",
    "y = wd.target\n",
    "\n",
    "# Преобразую данные в DataFrame для удобства\n",
    "wine = pd.DataFrame(data, columns=wd.feature_names)\n",
    "wine['target'] = y\n",
    "\n",
    "# Вывожу первые несколько строк датасета для ознакомления\n",
    "print(wine.head())\n"
   ]
  },
  {
   "cell_type": "markdown",
   "id": "6bda95ac",
   "metadata": {},
   "source": [
    "**Шаг 2: Разделение Данных с Использованием Различных Методов Кросс-Валидации**\n",
    "\n",
    "Применим три различных метода кросс-валидации: KFold, LOO (Leave One Out), и Stratified KFold."
   ]
  },
  {
   "cell_type": "code",
   "execution_count": 12,
   "id": "11015ef1",
   "metadata": {},
   "outputs": [],
   "source": [
    "# Импортирую методы кросс-валидации\n",
    "from sklearn.model_selection import KFold, LeaveOneOut, StratifiedKFold\n",
    "\n",
    "# Инициализирую методы кросс-валидации\n",
    "kf = KFold(n_splits=5, random_state=42, shuffle=True)\n",
    "loo = LeaveOneOut()\n",
    "skf = StratifiedKFold(n_splits=5, random_state=42, shuffle=True)\n"
   ]
  },
  {
   "cell_type": "markdown",
   "id": "410f3446",
   "metadata": {},
   "source": [
    "**Шаг 3: Применение kNN и Подсчет Доли Правильных Ответов**\n",
    "\n",
    "Применим алгоритм k-ближайших соседей для каждого k в диапазоне от 1 до 50 и каждого метода кросс-валидации."
   ]
  },
  {
   "cell_type": "code",
   "execution_count": 13,
   "id": "9aec1071",
   "metadata": {},
   "outputs": [],
   "source": [
    "# Импортирую KNeighborsClassifier и cross_val_score\n",
    "from sklearn.neighbors import KNeighborsClassifier\n",
    "from sklearn.model_selection import cross_val_score\n",
    "import numpy as np\n",
    "\n",
    "# Определяю функцию для тестирования kNN с различными параметрами k и методами кросс-валидации\n",
    "def test_knn_cv(X, y, cv_method, k_range):\n",
    "    scores = {}\n",
    "    for k in k_range:\n",
    "        model = KNeighborsClassifier(n_neighbors=k)\n",
    "        cv_scores = cross_val_score(model, X, y, cv=cv_method)\n",
    "        scores[k] = np.mean(cv_scores)\n",
    "    return scores\n",
    "\n",
    "# Тестирую для каждого метода кросс-валидации\n",
    "k_range = range(1, 51)\n",
    "scores_kf = test_knn_cv(data, y, kf, k_range)\n",
    "scores_loo = test_knn_cv(data, y, loo, k_range)\n",
    "scores_skf = test_knn_cv(data, y, skf, k_range)\n"
   ]
  },
  {
   "cell_type": "markdown",
   "id": "37483783",
   "metadata": {},
   "source": [
    "**Шаг 4: Анализ Результатов и Определение Лучшей Конфигурации**\n",
    "\n",
    "Я проанализировал полученные результаты, чтобы определить, какая комбинация кросс-валидации и значения k даёт наилучший результат."
   ]
  },
  {
   "cell_type": "code",
   "execution_count": 14,
   "id": "586b2336",
   "metadata": {},
   "outputs": [
    {
     "name": "stdout",
     "output_type": "stream",
     "text": [
      "Лучшее k для KFold: 1 с точностью 0.7304761904761905\n",
      "Лучшее k для LOO: 1 с точностью 0.7696629213483146\n",
      "Лучшее k для Stratified KFold: 1 с точностью 0.7185714285714285\n"
     ]
    }
   ],
   "source": [
    "# Нахожу наилучшие результаты для каждого метода кросс-валидации\n",
    "best_k_kf = max(scores_kf, key=scores_kf.get)\n",
    "best_k_loo = max(scores_loo, key=scores_loo.get)\n",
    "best_k_skf = max(scores_skf, key=scores_skf.get)\n",
    "\n",
    "print(f\"Лучшее k для KFold: {best_k_kf} с точностью {scores_kf[best_k_kf]}\")\n",
    "print(f\"Лучшее k для LOO: {best_k_loo} с точностью {scores_loo[best_k_loo]}\")\n",
    "print(f\"Лучшее k для Stratified KFold: {best_k_skf} с точностью {scores_skf[best_k_skf]}\")\n"
   ]
  },
  {
   "cell_type": "markdown",
   "id": "04cc3a85",
   "metadata": {},
   "source": [
    "Эти результаты показывают, что для необработанных данных наибольшую точность дает наименьшее значение k (1), что характерно для kNN, особенно на небольших или менее сложных наборах данных."
   ]
  },
  {
   "cell_type": "markdown",
   "id": "63fc8296",
   "metadata": {},
   "source": [
    "**Шаг 5: Масштабирование Признаков и Повторное Тестирование**\n",
    "\n",
    "После масштабирования признаков снова применим алгоритм kNN для каждого k в диапазоне от 1 до 50 и каждого метода кросс-валидации. Целью является сравнить результаты до и после масштабирования и определить оптимальные значения k."
   ]
  },
  {
   "cell_type": "code",
   "execution_count": 18,
   "id": "3c90fb30",
   "metadata": {},
   "outputs": [
    {
     "name": "stdout",
     "output_type": "stream",
     "text": [
      "Лучшее k для KFold (масштабированные данные): 29 с точностью 0.9776190476190475\n",
      "Лучшее k для LOO (масштабированные данные): 36 с точностью 0.9831460674157303\n",
      "Лучшее k для Stratified KFold (масштабированные данные): 13 с точностью 0.9776190476190475\n"
     ]
    }
   ],
   "source": [
    "# Масштабирование признаков\n",
    "from sklearn.preprocessing import scale\n",
    "scaled = scale(data)\n",
    "\n",
    "# Повторяем тестирование с масштабированными данными\n",
    "scores_kf_scaled = test_knn_cv(scaled, y, kf, k_range)\n",
    "scores_loo_scaled = test_knn_cv(scaled, y, loo, k_range)\n",
    "scores_skf_scaled = test_knn_cv(scaled, y, skf, k_range)\n",
    "\n",
    "# Находим наилучшие результаты для каждого метода кросс-валидации после масштабирования\n",
    "best_k_kf_scaled = max(scores_kf_scaled, key=scores_kf_scaled.get)\n",
    "best_k_loo_scaled = max(scores_loo_scaled, key=scores_loo_scaled.get)\n",
    "best_k_skf_scaled = max(scores_skf_scaled, key=scores_skf_scaled.get)\n",
    "\n",
    "print(f\"Лучшее k для KFold (масштабированные данные): {best_k_kf_scaled} с точностью {scores_kf_scaled[best_k_kf_scaled]}\")\n",
    "print(f\"Лучшее k для LOO (масштабированные данные): {best_k_loo_scaled} с точностью {scores_loo_scaled[best_k_loo_scaled]}\")\n",
    "print(f\"Лучшее k для Stratified KFold (масштабированные данные): {best_k_skf_scaled} с точностью {scores_skf_scaled[best_k_skf_scaled]}\")\n"
   ]
  },
  {
   "cell_type": "markdown",
   "id": "72679564",
   "metadata": {},
   "source": [
    "После масштабирования признаков точность увеличилась, а оптимальные значения k сместились в сторону более высоких значений. Это подтверждает, что масштабирование признаков может улучшить производительность алгоритмов машинного обучения для методов, основанных на расстояниях, как kNN."
   ]
  },
  {
   "cell_type": "markdown",
   "id": "e9e79191",
   "metadata": {},
   "source": [
    "**Шаг 6: Анализ Изменений и Выводы**\n",
    "\n",
    "Сравним результаты до и после масштабирования, чтобы понять, изменилось ли оптимальное значение k и какой метод валидации оказался наиболее эффективным."
   ]
  },
  {
   "cell_type": "code",
   "execution_count": 16,
   "id": "34922b62",
   "metadata": {},
   "outputs": [
    {
     "name": "stdout",
     "output_type": "stream",
     "text": [
      "Изменение оптимального k для KFold: с 1 на 29\n",
      "Изменение оптимального k для LOO: с 1 на 36\n",
      "Изменение оптимального k для Stratified KFold: с 1 на 13\n"
     ]
    }
   ],
   "source": [
    "# Сравнение результатов до и после масштабирования\n",
    "print(f\"Изменение оптимального k для KFold: с {best_k_kf} на {best_k_kf_scaled}\")\n",
    "print(f\"Изменение оптимального k для LOO: с {best_k_loo} на {best_k_loo_scaled}\")\n",
    "print(f\"Изменение оптимального k для Stratified KFold: с {best_k_skf} на {best_k_skf_scaled}\")\n"
   ]
  },
  {
   "cell_type": "markdown",
   "id": "563d6315",
   "metadata": {},
   "source": [
    "Ответы на Вопросы\n",
    "\n",
    "1) Какая кросс-валидация и при каком значении k дает лучший результат?\n",
    "\n",
    "Перед масштабированием данных лучший результат показал метод LOO с k = 1. После масштабирования лучший результат показал метод LOO с k = 36.\n",
    "\n",
    "2) Чему равно оптимальное k на трех разных кросс-валидациях после масштабирования? Изменилось ли оно? Изменился ли оптимальный метод валидации?\n",
    "        \n",
    "Оптимальное k после масштабирования: для KFold = 29, для LOO = 36, и для Stratified KFold = 13.\n",
    "Да, оптимальное k изменилось после масштабирования, увеличившись в каждом случае.\n",
    "Метод валидации, который показал наилучший результат, остался прежним (LOO), но оптимальное значение k изменилось.\n",
    "\n",
    "Таким образом, масштабирование признаков повлияло на производительность алгоритма kNN, позволяя достичь более высокой точности с более высокими значениями k."
   ]
  }
 ],
 "metadata": {
  "kernelspec": {
   "display_name": "Python 3",
   "language": "python",
   "name": "python3"
  },
  "language_info": {
   "codemirror_mode": {
    "name": "ipython",
    "version": 3
   },
   "file_extension": ".py",
   "mimetype": "text/x-python",
   "name": "python",
   "nbconvert_exporter": "python",
   "pygments_lexer": "ipython3",
   "version": "3.11.6"
  },
  "vscode": {
   "interpreter": {
    "hash": "e7370f93d1d0cde622a1f8e1c04877d8463912d04d973331ad4851f04de6915a"
   }
  }
 },
 "nbformat": 4,
 "nbformat_minor": 5
}
